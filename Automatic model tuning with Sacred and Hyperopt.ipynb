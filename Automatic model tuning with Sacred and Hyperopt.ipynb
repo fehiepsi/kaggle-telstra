{
 "cells": [
  {
   "cell_type": "code",
   "execution_count": 1,
   "metadata": {
    "collapsed": true
   },
   "outputs": [],
   "source": [
    "%matplotlib inline\n",
    "import pandas as pd\n",
    "import numpy as np\n",
    "from matplotlib import pyplot as plt\n",
    "from hyperopt import fmin, tpe, hp\n",
    "from pymongo import MongoClient\n",
    "import seaborn as sns"
   ]
  },
  {
   "cell_type": "code",
   "execution_count": 2,
   "metadata": {
    "collapsed": false,
    "scrolled": true
   },
   "outputs": [
    {
     "name": "stderr",
     "output_type": "stream",
     "text": [
      "/home/fehiepsi/miniconda3/envs/pydata/lib/python3.5/site-packages/sklearn/cross_validation.py:44: DeprecationWarning: This module was deprecated in version 0.18 in favor of the model_selection module into which all the refactored classes and functions are moved. Also note that the interface of the new CV iterators are different from that of this module. This module will be removed in 0.20.\n",
      "  \"This module will be removed in 0.20.\", DeprecationWarning)\n"
     ]
    }
   ],
   "source": [
    "from src.experiments.RFexp import ex as rfex\n",
    "from src.experiments.XGBexp import ex as xgbex"
   ]
  },
  {
   "cell_type": "markdown",
   "metadata": {},
   "source": [
    "This notebook shows how to use Sacred and Hyperopt to do automatic hyperparameter selection. \n",
    "\n",
    "[Sacred](https://github.com/IDSIA/sacred) is a tool for organizing, running and logging machine learning experiments. It comes with a mongo observer that saves the run's configuration and results to a mongo database. I found it very useful especially in conjunction with [Hyperopt](https://github.com/hyperopt/hyperopt) which is a Python library for hyperparameter optimization. \n",
    "\n",
    "See [the docs](http://sacred.readthedocs.org/en/latest/quickstart.html) on how to install and start using Sacred. \n",
    "\n",
    "I'll show an example using an experiment with a random forest algorithm for predicting fault severities for the \"Telstra Network Discruptions\" Kaggle competition. The code for this experiment is in [src/experiments/RFexp.py](https://github.com/gereleth/kaggle-telstra/blob/master/src/experiments/RFexp.py). There are other files in the [experiments](https://github.com/gereleth/kaggle-telstra/tree/master/src/experiments) folder with other algorithms I tried. \n",
    "\n",
    "The experiment's function decorated with `@ex.automain` loads the data, builds features, performs a stratified k-fold cross-validation and returns multiclass log loss as the result. Let's see how it works by running an experiment."
   ]
  },
  {
   "cell_type": "markdown",
   "metadata": {},
   "source": [
    "## Run an experiment"
   ]
  },
  {
   "cell_type": "code",
   "execution_count": 3,
   "metadata": {
    "collapsed": false
   },
   "outputs": [
    {
     "name": "stderr",
     "output_type": "stream",
     "text": [
      "INFO - random_forest - Running command 'rf'\n",
      "INFO - random_forest - Started\n",
      "/home/fehiepsi/projects/kaggle-telstra/src/telstra_data.py:162: FutureWarning: pd.rolling_mean is deprecated for Series and will be removed in a future version, replace with \n",
      "\tSeries.rolling(min_periods=1,center=True,window=9).mean()\n",
      "  rmean = lambda x: pd.rolling_mean(x,window=9,min_periods=1,center=True)\n",
      "/home/fehiepsi/projects/kaggle-telstra/src/telstra_data.py:277: FutureWarning: pd.ewm_mean is deprecated for Series and will be removed in a future version, replace with \n",
      "\tSeries.ewm(halflife=2,min_periods=1,adjust=True,ignore_na=False).mean()\n",
      "  return lambda x: [0]+pd.ewma(x==fs,halflife = halflife,min_periods=1)[:-1].tolist()\n",
      "/home/fehiepsi/projects/kaggle-telstra/src/telstra_data.py:277: FutureWarning: pd.ewm_mean is deprecated for Series and will be removed in a future version, replace with \n",
      "\tSeries.ewm(halflife=2,min_periods=1,adjust=True,ignore_na=False).mean()\n",
      "  return lambda x: [0]+pd.ewma(x==fs,halflife = halflife,min_periods=1)[:-1].tolist()\n",
      "/home/fehiepsi/projects/kaggle-telstra/src/telstra_data.py:277: FutureWarning: pd.ewm_mean is deprecated for Series and will be removed in a future version, replace with \n",
      "\tSeries.ewm(halflife=2,min_periods=1,adjust=True,ignore_na=False).mean()\n",
      "  return lambda x: [0]+pd.ewma(x==fs,halflife = halflife,min_periods=1)[:-1].tolist()\n",
      "/home/fehiepsi/projects/kaggle-telstra/src/telstra_data.py:277: FutureWarning: pd.ewm_mean is deprecated for Series and will be removed in a future version, replace with \n",
      "\tSeries.ewm(halflife=2,min_periods=1,adjust=True,ignore_na=False).mean()\n",
      "  return lambda x: [0]+pd.ewma(x==fs,halflife = halflife,min_periods=1)[:-1].tolist()\n",
      "/home/fehiepsi/projects/kaggle-telstra/src/telstra_data.py:277: FutureWarning: pd.ewm_mean is deprecated for Series and will be removed in a future version, replace with \n",
      "\tSeries.ewm(halflife=2,min_periods=1,adjust=True,ignore_na=False).mean()\n",
      "  return lambda x: [0]+pd.ewma(x==fs,halflife = halflife,min_periods=1)[:-1].tolist()\n",
      "/home/fehiepsi/projects/kaggle-telstra/src/telstra_data.py:277: FutureWarning: pd.ewm_mean is deprecated for Series and will be removed in a future version, replace with \n",
      "\tSeries.ewm(halflife=2,min_periods=1,adjust=True,ignore_na=False).mean()\n",
      "  return lambda x: [0]+pd.ewma(x==fs,halflife = halflife,min_periods=1)[:-1].tolist()\n",
      "/home/fehiepsi/projects/kaggle-telstra/src/telstra_data.py:277: FutureWarning: pd.ewm_mean is deprecated for Series and will be removed in a future version, replace with \n",
      "\tSeries.ewm(halflife=2,min_periods=1,adjust=True,ignore_na=False).mean()\n",
      "  return lambda x: [0]+pd.ewma(x==fs,halflife = halflife,min_periods=1)[:-1].tolist()\n",
      "/home/fehiepsi/projects/kaggle-telstra/src/telstra_data.py:277: FutureWarning: pd.ewm_mean is deprecated for Series and will be removed in a future version, replace with \n",
      "\tSeries.ewm(halflife=2,min_periods=1,adjust=True,ignore_na=False).mean()\n",
      "  return lambda x: [0]+pd.ewma(x==fs,halflife = halflife,min_periods=1)[:-1].tolist()\n",
      "/home/fehiepsi/projects/kaggle-telstra/src/telstra_data.py:277: FutureWarning: pd.ewm_mean is deprecated for Series and will be removed in a future version, replace with \n",
      "\tSeries.ewm(halflife=2,min_periods=1,adjust=True,ignore_na=False).mean()\n",
      "  return lambda x: [0]+pd.ewma(x==fs,halflife = halflife,min_periods=1)[:-1].tolist()\n",
      "/home/fehiepsi/projects/kaggle-telstra/src/telstra_data.py:277: FutureWarning: pd.ewm_mean is deprecated for Series and will be removed in a future version, replace with \n",
      "\tSeries.ewm(halflife=2,min_periods=1,adjust=True,ignore_na=False).mean()\n",
      "  return lambda x: [0]+pd.ewma(x==fs,halflife = halflife,min_periods=1)[:-1].tolist()\n",
      "INFO - random_forest - Result: 0.46565598207699993\n",
      "INFO - random_forest - Completed after 0:01:16\n"
     ]
    }
   ],
   "source": [
    "run = rfex.run()"
   ]
  },
  {
   "cell_type": "code",
   "execution_count": null,
   "metadata": {
    "collapsed": false
   },
   "outputs": [],
   "source": [
    "!ls"
   ]
  },
  {
   "cell_type": "markdown",
   "metadata": {},
   "source": [
    "See the configuration used for this run:"
   ]
  },
  {
   "cell_type": "code",
   "execution_count": 4,
   "metadata": {
    "collapsed": false
   },
   "outputs": [
    {
     "data": {
      "text/plain": [
       "{'aggregateparams': {'loc_agg_prior_weight': 3.0},\n",
       " 'clfparams': {'bootstrap': True,\n",
       "  'class_weight': None,\n",
       "  'criterion': 'gini',\n",
       "  'max_depth': None,\n",
       "  'max_features': 'auto',\n",
       "  'max_leaf_nodes': None,\n",
       "  'min_samples_leaf': 4,\n",
       "  'min_samples_split': 2,\n",
       "  'min_weight_fraction_leaf': 0.0,\n",
       "  'n_estimators': 200,\n",
       "  'n_jobs': -1,\n",
       "  'oob_score': False,\n",
       "  'verbose': 0,\n",
       "  'warm_start': False},\n",
       " 'exclude': [],\n",
       " 'featureparams': {'location_min_count': 0,\n",
       "  'n_common_events': 20,\n",
       "  'n_common_log_features': 40,\n",
       "  'n_common_resources': 5,\n",
       "  'n_label_encoded_events': 0,\n",
       "  'n_label_encoded_log_features': 4},\n",
       " 'include': [],\n",
       " 'n_folds': 10,\n",
       " 'save_oob_predictions': False,\n",
       " 'save_test_predictions': False,\n",
       " 'seed': 991087556,\n",
       " 'series': 'RF',\n",
       " 'skip_cross_validation': False}"
      ]
     },
     "execution_count": 4,
     "metadata": {},
     "output_type": "execute_result"
    }
   ],
   "source": [
    "run.config"
   ]
  },
  {
   "cell_type": "markdown",
   "metadata": {},
   "source": [
    "See the run's result:"
   ]
  },
  {
   "cell_type": "code",
   "execution_count": 5,
   "metadata": {
    "collapsed": false
   },
   "outputs": [
    {
     "data": {
      "text/plain": [
       "0.46565598207699993"
      ]
     },
     "execution_count": 5,
     "metadata": {},
     "output_type": "execute_result"
    }
   ],
   "source": [
    "run.result"
   ]
  },
  {
   "cell_type": "markdown",
   "metadata": {},
   "source": [
    "Additional information can be saved in the `run.info` dictionary. For example, in my RF experiment I save feature names, feature importances, values of loss and train loss from each fold."
   ]
  },
  {
   "cell_type": "code",
   "execution_count": 6,
   "metadata": {
    "collapsed": false
   },
   "outputs": [
    {
     "data": {
      "text/plain": [
       "dict_keys(['loss', 'features', 'feature_importances', 'trainloss'])"
      ]
     },
     "execution_count": 6,
     "metadata": {},
     "output_type": "execute_result"
    }
   ],
   "source": [
    "run.info.keys()"
   ]
  },
  {
   "cell_type": "code",
   "execution_count": 8,
   "metadata": {
    "collapsed": false
   },
   "outputs": [
    {
     "data": {
      "text/plain": [
       "[0.015802039722011326,\n",
       " 0.027178541068559957,\n",
       " 0.023498315068509527,\n",
       " 0.030525297608665566,\n",
       " 0.029906283519001205,\n",
       " 0.030804723767684707,\n",
       " 0.027655436227178674,\n",
       " 0.005457531711450905,\n",
       " 0.00038652104608088902,\n",
       " 0.0038935754221961793,\n",
       " 0.0016874018461073769,\n",
       " 0.00038227487751952199,\n",
       " 0.0048834128791333791,\n",
       " 0.00011409303025285729,\n",
       " 0.0020441136892935222,\n",
       " 7.7102094325451212e-05,\n",
       " 0.00025121847875989544,\n",
       " 0.00042833905067916656,\n",
       " 1.1201374923001802e-05,\n",
       " 5.642766441758048e-06,\n",
       " 0.0053700791190306168,\n",
       " 0.0087808779579572824,\n",
       " 0.00033907656288384674,\n",
       " 0.00018387245778558772,\n",
       " 0.00037472117199030807,\n",
       " 7.9851036334835617e-05,\n",
       " 0.0001263726209034797,\n",
       " 0.00095323766651267373,\n",
       " 0.023687359657271565,\n",
       " 0.014673207227472503,\n",
       " 0.014163780281218008,\n",
       " 0.026941702233729305,\n",
       " 0.017554997033288645,\n",
       " 0.017159735852947694,\n",
       " 0.0265464554844363,\n",
       " 0.0052863243056204467,\n",
       " 0.0010865257523460501,\n",
       " 0.0024181729745795474,\n",
       " 0.00035942950450843435,\n",
       " 0.0018819019517317987,\n",
       " 0.0022450514273654118,\n",
       " 0.0017085175856755693,\n",
       " 0.016787694068453186,\n",
       " 0.0022580447490942921,\n",
       " 0.011282082539316883,\n",
       " 0.0014457907876156491,\n",
       " 0.00087936660503404123,\n",
       " 0.0012533284244968649,\n",
       " 0.0011884261726782281,\n",
       " 0.054550631242876804,\n",
       " 0.001107574202134732,\n",
       " 0.0012593559578630636,\n",
       " 0.00016440576281496534,\n",
       " 7.4358375009913458e-05,\n",
       " 0.0001672470912413463,\n",
       " 0.0065871215444677465,\n",
       " 0.0011241100296260336,\n",
       " 0.00012049831158704582,\n",
       " 0.0003764314676930324,\n",
       " 0.0016810962387572704,\n",
       " 0.0010407312821143994,\n",
       " 0.0011082048840393027,\n",
       " 0.00089502566444672174,\n",
       " 0.00049415715456023468,\n",
       " 0.0012940716507477943,\n",
       " 0.00014557261441679403,\n",
       " 9.0921985529641327e-05,\n",
       " 0.00011932144971237651,\n",
       " 0.0070329933029479475,\n",
       " 0.0018968018899340675,\n",
       " 0.0002215283196028736,\n",
       " 0.0010439960903346431,\n",
       " 0.00041678284343124827,\n",
       " 0.000961444885775967,\n",
       " 0.00098885692839698557,\n",
       " 0.021657347403568068,\n",
       " 0.02392103580926987,\n",
       " 0.01081643672313912,\n",
       " 0.0080949116603331144,\n",
       " 0.021891385059288331,\n",
       " 0.030211540051104251,\n",
       " 0.027029579926355456,\n",
       " 0.038551964411814632,\n",
       " 0.0032796205866347863,\n",
       " 0.0053526130866854019,\n",
       " 0.00038832231971745198,\n",
       " 0.0015881809239182382,\n",
       " 0.00054795122084005195,\n",
       " 0.0063415240682985286,\n",
       " 0.024972552910722014,\n",
       " 0.020209759393757777,\n",
       " 0.020092966527334628,\n",
       " 0.050789866191051164,\n",
       " 0.031053771621575785,\n",
       " 0.062521224877998563,\n",
       " 0.056888418670352117,\n",
       " 0.036826736925123733]"
      ]
     },
     "execution_count": 8,
     "metadata": {},
     "output_type": "execute_result"
    }
   ],
   "source": [
    "run.info[\"feature_importances\"]"
   ]
  },
  {
   "cell_type": "markdown",
   "metadata": {},
   "source": [
    "Let's plot some feature importances"
   ]
  },
  {
   "cell_type": "code",
   "execution_count": 7,
   "metadata": {
    "collapsed": false
   },
   "outputs": [
    {
     "data": {
      "text/plain": [
       "<matplotlib.axes._subplots.AxesSubplot at 0x7fcea421fb70>"
      ]
     },
     "execution_count": 7,
     "metadata": {},
     "output_type": "execute_result"
    },
    {
     "data": {
      "image/png": "[encoded data removed]",
      "text/plain": [
       "<matplotlib.figure.Figure at 0x7fce974af0f0>"
      ]
     },
     "metadata": {},
     "output_type": "display_data"
    }
   ],
   "source": [
    "imp = pd.Series(run.info['feature_importances'],index=run.info['features']).sort_values()\n",
    "fig, ax = plt.subplots(figsize=(8,8))\n",
    "imp.iloc[-30:].plot(kind='barh',ax=ax, alpha = 0.7)"
   ]
  },
  {
   "cell_type": "markdown",
   "metadata": {},
   "source": [
    "## Run an experiment with another configuration\n",
    "\n",
    "Running an experiment with new configuration is done by using `config_updates` keyword argument. For example, let's set `max_features` random forest parameter to 1. Note how Sacred warns us that it was changed from string ('auto') to an int."
   ]
  },
  {
   "cell_type": "code",
   "execution_count": 9,
   "metadata": {
    "collapsed": false
   },
   "outputs": [
    {
     "name": "stderr",
     "output_type": "stream",
     "text": [
      "WARNING - root - Changed type of config entry \"clfparams.max_features\" from str to int\n",
      "INFO - random_forest - Running command 'rf'\n",
      "INFO - random_forest - Started\n",
      "/home/fehiepsi/projects/kaggle-telstra/src/telstra_data.py:162: FutureWarning: pd.rolling_mean is deprecated for Series and will be removed in a future version, replace with \n",
      "\tSeries.rolling(min_periods=1,center=True,window=9).mean()\n",
      "  rmean = lambda x: pd.rolling_mean(x,window=9,min_periods=1,center=True)\n",
      "/home/fehiepsi/projects/kaggle-telstra/src/telstra_data.py:277: FutureWarning: pd.ewm_mean is deprecated for Series and will be removed in a future version, replace with \n",
      "\tSeries.ewm(halflife=2,min_periods=1,adjust=True,ignore_na=False).mean()\n",
      "  return lambda x: [0]+pd.ewma(x==fs,halflife = halflife,min_periods=1)[:-1].tolist()\n",
      "/home/fehiepsi/projects/kaggle-telstra/src/telstra_data.py:277: FutureWarning: pd.ewm_mean is deprecated for Series and will be removed in a future version, replace with \n",
      "\tSeries.ewm(halflife=2,min_periods=1,adjust=True,ignore_na=False).mean()\n",
      "  return lambda x: [0]+pd.ewma(x==fs,halflife = halflife,min_periods=1)[:-1].tolist()\n",
      "/home/fehiepsi/projects/kaggle-telstra/src/telstra_data.py:277: FutureWarning: pd.ewm_mean is deprecated for Series and will be removed in a future version, replace with \n",
      "\tSeries.ewm(halflife=2,min_periods=1,adjust=True,ignore_na=False).mean()\n",
      "  return lambda x: [0]+pd.ewma(x==fs,halflife = halflife,min_periods=1)[:-1].tolist()\n",
      "/home/fehiepsi/projects/kaggle-telstra/src/telstra_data.py:277: FutureWarning: pd.ewm_mean is deprecated for Series and will be removed in a future version, replace with \n",
      "\tSeries.ewm(halflife=2,min_periods=1,adjust=True,ignore_na=False).mean()\n",
      "  return lambda x: [0]+pd.ewma(x==fs,halflife = halflife,min_periods=1)[:-1].tolist()\n",
      "/home/fehiepsi/projects/kaggle-telstra/src/telstra_data.py:277: FutureWarning: pd.ewm_mean is deprecated for Series and will be removed in a future version, replace with \n",
      "\tSeries.ewm(halflife=2,min_periods=1,adjust=True,ignore_na=False).mean()\n",
      "  return lambda x: [0]+pd.ewma(x==fs,halflife = halflife,min_periods=1)[:-1].tolist()\n",
      "/home/fehiepsi/projects/kaggle-telstra/src/telstra_data.py:277: FutureWarning: pd.ewm_mean is deprecated for Series and will be removed in a future version, replace with \n",
      "\tSeries.ewm(halflife=2,min_periods=1,adjust=True,ignore_na=False).mean()\n",
      "  return lambda x: [0]+pd.ewma(x==fs,halflife = halflife,min_periods=1)[:-1].tolist()\n",
      "/home/fehiepsi/projects/kaggle-telstra/src/telstra_data.py:277: FutureWarning: pd.ewm_mean is deprecated for Series and will be removed in a future version, replace with \n",
      "\tSeries.ewm(halflife=2,min_periods=1,adjust=True,ignore_na=False).mean()\n",
      "  return lambda x: [0]+pd.ewma(x==fs,halflife = halflife,min_periods=1)[:-1].tolist()\n",
      "/home/fehiepsi/projects/kaggle-telstra/src/telstra_data.py:277: FutureWarning: pd.ewm_mean is deprecated for Series and will be removed in a future version, replace with \n",
      "\tSeries.ewm(halflife=2,min_periods=1,adjust=True,ignore_na=False).mean()\n",
      "  return lambda x: [0]+pd.ewma(x==fs,halflife = halflife,min_periods=1)[:-1].tolist()\n",
      "/home/fehiepsi/projects/kaggle-telstra/src/telstra_data.py:277: FutureWarning: pd.ewm_mean is deprecated for Series and will be removed in a future version, replace with \n",
      "\tSeries.ewm(halflife=2,min_periods=1,adjust=True,ignore_na=False).mean()\n",
      "  return lambda x: [0]+pd.ewma(x==fs,halflife = halflife,min_periods=1)[:-1].tolist()\n",
      "/home/fehiepsi/projects/kaggle-telstra/src/telstra_data.py:277: FutureWarning: pd.ewm_mean is deprecated for Series and will be removed in a future version, replace with \n",
      "\tSeries.ewm(halflife=2,min_periods=1,adjust=True,ignore_na=False).mean()\n",
      "  return lambda x: [0]+pd.ewma(x==fs,halflife = halflife,min_periods=1)[:-1].tolist()\n",
      "INFO - random_forest - Result: 0.5752673064070932\n",
      "INFO - random_forest - Completed after 0:01:15\n"
     ]
    }
   ],
   "source": [
    "run = rfex.run(config_updates = {\"clfparams.max_features\":1})"
   ]
  },
  {
   "cell_type": "markdown",
   "metadata": {},
   "source": [
    "We can change multiple things at once. For example, let's not take any one-hot encoded events columns, change `max_features` to 2 and exclude the location feature. This is just to show how config updates work."
   ]
  },
  {
   "cell_type": "code",
   "execution_count": null,
   "metadata": {
    "collapsed": false
   },
   "outputs": [],
   "source": [
    "run = rfex.run(config_updates = {\"clfparams.max_features\":2,\n",
    "                                 \"featureparams.n_common_events\":0,\n",
    "                                 \"exclude\":['location']})"
   ]
  },
  {
   "cell_type": "markdown",
   "metadata": {},
   "source": [
    "Rerunning an experiment with the same config should give exactly the same result. Let's check if it does."
   ]
  },
  {
   "cell_type": "code",
   "execution_count": null,
   "metadata": {
    "collapsed": false
   },
   "outputs": [],
   "source": [
    "rerun = rfex.run(config_updates = run.config)"
   ]
  },
  {
   "cell_type": "markdown",
   "metadata": {},
   "source": [
    "Sacred takes care of setting the random seed (of `random` and `numpy.random`) and saves the seed in the configuration. So you can always reproduce any experiment you ran."
   ]
  },
  {
   "cell_type": "markdown",
   "metadata": {},
   "source": [
    "## Tune the model with hyperopt\n",
    "\n",
    "Let's try tuning the random forest model using `hyperopt` library. Let's say that we want to select optimal values for `max_features` and `min_samples_leaf` parameters.\n",
    "\n",
    "First we'll need to define a search space for the parameters. I set `max_features` to look over integers from 1 to 20 and `min_samples_leaf` to integers from 1 to 10. For details on defining search spaces see [hyperopt docs](https://github.com/hyperopt/hyperopt/wiki/FMin)."
   ]
  },
  {
   "cell_type": "code",
   "execution_count": 10,
   "metadata": {
    "collapsed": true
   },
   "outputs": [],
   "source": [
    "space = {'max_features':hp.quniform('max_features',1,20,1),\n",
    "         'min_samples_leaf':hp.quniform('min_samples_leaf',1,10,1)}"
   ]
  },
  {
   "cell_type": "markdown",
   "metadata": {},
   "source": [
    "Next we define the optimisation objective. Inside the function we create a dict of configuration updates, run the experiment and report the result."
   ]
  },
  {
   "cell_type": "code",
   "execution_count": 11,
   "metadata": {
    "collapsed": true
   },
   "outputs": [],
   "source": [
    "def rf_objective(params):\n",
    "    config={'series':\"RF01\"}\n",
    "    for (key,value) in params.items():\n",
    "        config[\"clfparams.{}\".format(key)] = int(value)\n",
    "    run = rfex.run(config_updates=config)\n",
    "    return run.result"
   ]
  },
  {
   "cell_type": "markdown",
   "metadata": {},
   "source": [
    "Now we can run the optimisation using `fmin` from hyperopt. `max_evals` number controls how many points to try in the hyperparameter space.\n",
    "\n",
    "Time to launch the optimisation. Then you can have some tea or go for a walk or get a good night's sleep while the automatic tuning is working on improving your model."
   ]
  },
  {
   "cell_type": "code",
   "execution_count": 12,
   "metadata": {
    "collapsed": false,
    "scrolled": true
   },
   "outputs": [
    {
     "name": "stderr",
     "output_type": "stream",
     "text": [
      "INFO - hyperopt.tpe - tpe_transform took 0.002451 seconds\n",
      "INFO - hyperopt.tpe - TPE using 0 trials\n",
      "WARNING - root - Changed type of config entry \"clfparams.max_features\" from str to int\n",
      "INFO - random_forest - Running command 'rf'\n",
      "INFO - random_forest - Started\n",
      "/home/fehiepsi/projects/kaggle-telstra/src/telstra_data.py:162: FutureWarning: pd.rolling_mean is deprecated for Series and will be removed in a future version, replace with \n",
      "\tSeries.rolling(min_periods=1,center=True,window=9).mean()\n",
      "  rmean = lambda x: pd.rolling_mean(x,window=9,min_periods=1,center=True)\n",
      "/home/fehiepsi/projects/kaggle-telstra/src/telstra_data.py:277: FutureWarning: pd.ewm_mean is deprecated for Series and will be removed in a future version, replace with \n",
      "\tSeries.ewm(halflife=2,min_periods=1,adjust=True,ignore_na=False).mean()\n",
      "  return lambda x: [0]+pd.ewma(x==fs,halflife = halflife,min_periods=1)[:-1].tolist()\n",
      "/home/fehiepsi/projects/kaggle-telstra/src/telstra_data.py:277: FutureWarning: pd.ewm_mean is deprecated for Series and will be removed in a future version, replace with \n",
      "\tSeries.ewm(halflife=2,min_periods=1,adjust=True,ignore_na=False).mean()\n",
      "  return lambda x: [0]+pd.ewma(x==fs,halflife = halflife,min_periods=1)[:-1].tolist()\n",
      "/home/fehiepsi/projects/kaggle-telstra/src/telstra_data.py:277: FutureWarning: pd.ewm_mean is deprecated for Series and will be removed in a future version, replace with \n",
      "\tSeries.ewm(halflife=2,min_periods=1,adjust=True,ignore_na=False).mean()\n",
      "  return lambda x: [0]+pd.ewma(x==fs,halflife = halflife,min_periods=1)[:-1].tolist()\n",
      "/home/fehiepsi/projects/kaggle-telstra/src/telstra_data.py:277: FutureWarning: pd.ewm_mean is deprecated for Series and will be removed in a future version, replace with \n",
      "\tSeries.ewm(halflife=2,min_periods=1,adjust=True,ignore_na=False).mean()\n",
      "  return lambda x: [0]+pd.ewma(x==fs,halflife = halflife,min_periods=1)[:-1].tolist()\n",
      "/home/fehiepsi/projects/kaggle-telstra/src/telstra_data.py:277: FutureWarning: pd.ewm_mean is deprecated for Series and will be removed in a future version, replace with \n",
      "\tSeries.ewm(halflife=2,min_periods=1,adjust=True,ignore_na=False).mean()\n",
      "  return lambda x: [0]+pd.ewma(x==fs,halflife = halflife,min_periods=1)[:-1].tolist()\n",
      "/home/fehiepsi/projects/kaggle-telstra/src/telstra_data.py:277: FutureWarning: pd.ewm_mean is deprecated for Series and will be removed in a future version, replace with \n",
      "\tSeries.ewm(halflife=2,min_periods=1,adjust=True,ignore_na=False).mean()\n",
      "  return lambda x: [0]+pd.ewma(x==fs,halflife = halflife,min_periods=1)[:-1].tolist()\n",
      "/home/fehiepsi/projects/kaggle-telstra/src/telstra_data.py:277: FutureWarning: pd.ewm_mean is deprecated for Series and will be removed in a future version, replace with \n",
      "\tSeries.ewm(halflife=2,min_periods=1,adjust=True,ignore_na=False).mean()\n",
      "  return lambda x: [0]+pd.ewma(x==fs,halflife = halflife,min_periods=1)[:-1].tolist()\n",
      "/home/fehiepsi/projects/kaggle-telstra/src/telstra_data.py:277: FutureWarning: pd.ewm_mean is deprecated for Series and will be removed in a future version, replace with \n",
      "\tSeries.ewm(halflife=2,min_periods=1,adjust=True,ignore_na=False).mean()\n",
      "  return lambda x: [0]+pd.ewma(x==fs,halflife = halflife,min_periods=1)[:-1].tolist()\n",
      "/home/fehiepsi/projects/kaggle-telstra/src/telstra_data.py:277: FutureWarning: pd.ewm_mean is deprecated for Series and will be removed in a future version, replace with \n",
      "\tSeries.ewm(halflife=2,min_periods=1,adjust=True,ignore_na=False).mean()\n",
      "  return lambda x: [0]+pd.ewma(x==fs,halflife = halflife,min_periods=1)[:-1].tolist()\n",
      "/home/fehiepsi/projects/kaggle-telstra/src/telstra_data.py:277: FutureWarning: pd.ewm_mean is deprecated for Series and will be removed in a future version, replace with \n",
      "\tSeries.ewm(halflife=2,min_periods=1,adjust=True,ignore_na=False).mean()\n",
      "  return lambda x: [0]+pd.ewma(x==fs,halflife = halflife,min_periods=1)[:-1].tolist()\n",
      "INFO - random_forest - Result: 0.4597994782524525\n",
      "INFO - random_forest - Completed after 0:01:18\n",
      "INFO - hyperopt.tpe - tpe_transform took 0.001749 seconds\n",
      "INFO - hyperopt.tpe - TPE using 1/1 trials with best loss 0.459799\n",
      "WARNING - root - Changed type of config entry \"clfparams.max_features\" from str to int\n",
      "INFO - random_forest - Running command 'rf'\n",
      "INFO - random_forest - Started\n",
      "/home/fehiepsi/projects/kaggle-telstra/src/telstra_data.py:162: FutureWarning: pd.rolling_mean is deprecated for Series and will be removed in a future version, replace with \n",
      "\tSeries.rolling(min_periods=1,center=True,window=9).mean()\n",
      "  rmean = lambda x: pd.rolling_mean(x,window=9,min_periods=1,center=True)\n",
      "/home/fehiepsi/projects/kaggle-telstra/src/telstra_data.py:277: FutureWarning: pd.ewm_mean is deprecated for Series and will be removed in a future version, replace with \n",
      "\tSeries.ewm(halflife=2,min_periods=1,adjust=True,ignore_na=False).mean()\n",
      "  return lambda x: [0]+pd.ewma(x==fs,halflife = halflife,min_periods=1)[:-1].tolist()\n",
      "/home/fehiepsi/projects/kaggle-telstra/src/telstra_data.py:277: FutureWarning: pd.ewm_mean is deprecated for Series and will be removed in a future version, replace with \n",
      "\tSeries.ewm(halflife=2,min_periods=1,adjust=True,ignore_na=False).mean()\n",
      "  return lambda x: [0]+pd.ewma(x==fs,halflife = halflife,min_periods=1)[:-1].tolist()\n",
      "/home/fehiepsi/projects/kaggle-telstra/src/telstra_data.py:277: FutureWarning: pd.ewm_mean is deprecated for Series and will be removed in a future version, replace with \n",
      "\tSeries.ewm(halflife=2,min_periods=1,adjust=True,ignore_na=False).mean()\n",
      "  return lambda x: [0]+pd.ewma(x==fs,halflife = halflife,min_periods=1)[:-1].tolist()\n",
      "/home/fehiepsi/projects/kaggle-telstra/src/telstra_data.py:277: FutureWarning: pd.ewm_mean is deprecated for Series and will be removed in a future version, replace with \n",
      "\tSeries.ewm(halflife=2,min_periods=1,adjust=True,ignore_na=False).mean()\n",
      "  return lambda x: [0]+pd.ewma(x==fs,halflife = halflife,min_periods=1)[:-1].tolist()\n",
      "/home/fehiepsi/projects/kaggle-telstra/src/telstra_data.py:277: FutureWarning: pd.ewm_mean is deprecated for Series and will be removed in a future version, replace with \n",
      "\tSeries.ewm(halflife=2,min_periods=1,adjust=True,ignore_na=False).mean()\n",
      "  return lambda x: [0]+pd.ewma(x==fs,halflife = halflife,min_periods=1)[:-1].tolist()\n",
      "/home/fehiepsi/projects/kaggle-telstra/src/telstra_data.py:277: FutureWarning: pd.ewm_mean is deprecated for Series and will be removed in a future version, replace with \n",
      "\tSeries.ewm(halflife=2,min_periods=1,adjust=True,ignore_na=False).mean()\n",
      "  return lambda x: [0]+pd.ewma(x==fs,halflife = halflife,min_periods=1)[:-1].tolist()\n",
      "/home/fehiepsi/projects/kaggle-telstra/src/telstra_data.py:277: FutureWarning: pd.ewm_mean is deprecated for Series and will be removed in a future version, replace with \n",
      "\tSeries.ewm(halflife=2,min_periods=1,adjust=True,ignore_na=False).mean()\n",
      "  return lambda x: [0]+pd.ewma(x==fs,halflife = halflife,min_periods=1)[:-1].tolist()\n",
      "/home/fehiepsi/projects/kaggle-telstra/src/telstra_data.py:277: FutureWarning: pd.ewm_mean is deprecated for Series and will be removed in a future version, replace with \n",
      "\tSeries.ewm(halflife=2,min_periods=1,adjust=True,ignore_na=False).mean()\n",
      "  return lambda x: [0]+pd.ewma(x==fs,halflife = halflife,min_periods=1)[:-1].tolist()\n",
      "/home/fehiepsi/projects/kaggle-telstra/src/telstra_data.py:277: FutureWarning: pd.ewm_mean is deprecated for Series and will be removed in a future version, replace with \n",
      "\tSeries.ewm(halflife=2,min_periods=1,adjust=True,ignore_na=False).mean()\n",
      "  return lambda x: [0]+pd.ewma(x==fs,halflife = halflife,min_periods=1)[:-1].tolist()\n",
      "/home/fehiepsi/projects/kaggle-telstra/src/telstra_data.py:277: FutureWarning: pd.ewm_mean is deprecated for Series and will be removed in a future version, replace with \n",
      "\tSeries.ewm(halflife=2,min_periods=1,adjust=True,ignore_na=False).mean()\n",
      "  return lambda x: [0]+pd.ewma(x==fs,halflife = halflife,min_periods=1)[:-1].tolist()\n",
      "INFO - random_forest - Result: 0.45474335386238346\n",
      "INFO - random_forest - Completed after 0:01:19\n",
      "INFO - hyperopt.tpe - tpe_transform took 0.001746 seconds\n",
      "INFO - hyperopt.tpe - TPE using 2/2 trials with best loss 0.454743\n",
      "WARNING - root - Changed type of config entry \"clfparams.max_features\" from str to int\n",
      "INFO - random_forest - Running command 'rf'\n",
      "INFO - random_forest - Started\n",
      "/home/fehiepsi/projects/kaggle-telstra/src/telstra_data.py:162: FutureWarning: pd.rolling_mean is deprecated for Series and will be removed in a future version, replace with \n",
      "\tSeries.rolling(min_periods=1,center=True,window=9).mean()\n",
      "  rmean = lambda x: pd.rolling_mean(x,window=9,min_periods=1,center=True)\n",
      "/home/fehiepsi/projects/kaggle-telstra/src/telstra_data.py:277: FutureWarning: pd.ewm_mean is deprecated for Series and will be removed in a future version, replace with \n",
      "\tSeries.ewm(halflife=2,min_periods=1,adjust=True,ignore_na=False).mean()\n",
      "  return lambda x: [0]+pd.ewma(x==fs,halflife = halflife,min_periods=1)[:-1].tolist()\n",
      "/home/fehiepsi/projects/kaggle-telstra/src/telstra_data.py:277: FutureWarning: pd.ewm_mean is deprecated for Series and will be removed in a future version, replace with \n",
      "\tSeries.ewm(halflife=2,min_periods=1,adjust=True,ignore_na=False).mean()\n",
      "  return lambda x: [0]+pd.ewma(x==fs,halflife = halflife,min_periods=1)[:-1].tolist()\n",
      "/home/fehiepsi/projects/kaggle-telstra/src/telstra_data.py:277: FutureWarning: pd.ewm_mean is deprecated for Series and will be removed in a future version, replace with \n",
      "\tSeries.ewm(halflife=2,min_periods=1,adjust=True,ignore_na=False).mean()\n",
      "  return lambda x: [0]+pd.ewma(x==fs,halflife = halflife,min_periods=1)[:-1].tolist()\n",
      "/home/fehiepsi/projects/kaggle-telstra/src/telstra_data.py:277: FutureWarning: pd.ewm_mean is deprecated for Series and will be removed in a future version, replace with \n",
      "\tSeries.ewm(halflife=2,min_periods=1,adjust=True,ignore_na=False).mean()\n",
      "  return lambda x: [0]+pd.ewma(x==fs,halflife = halflife,min_periods=1)[:-1].tolist()\n",
      "/home/fehiepsi/projects/kaggle-telstra/src/telstra_data.py:277: FutureWarning: pd.ewm_mean is deprecated for Series and will be removed in a future version, replace with \n",
      "\tSeries.ewm(halflife=2,min_periods=1,adjust=True,ignore_na=False).mean()\n",
      "  return lambda x: [0]+pd.ewma(x==fs,halflife = halflife,min_periods=1)[:-1].tolist()\n",
      "/home/fehiepsi/projects/kaggle-telstra/src/telstra_data.py:277: FutureWarning: pd.ewm_mean is deprecated for Series and will be removed in a future version, replace with \n",
      "\tSeries.ewm(halflife=2,min_periods=1,adjust=True,ignore_na=False).mean()\n",
      "  return lambda x: [0]+pd.ewma(x==fs,halflife = halflife,min_periods=1)[:-1].tolist()\n",
      "/home/fehiepsi/projects/kaggle-telstra/src/telstra_data.py:277: FutureWarning: pd.ewm_mean is deprecated for Series and will be removed in a future version, replace with \n",
      "\tSeries.ewm(halflife=2,min_periods=1,adjust=True,ignore_na=False).mean()\n",
      "  return lambda x: [0]+pd.ewma(x==fs,halflife = halflife,min_periods=1)[:-1].tolist()\n",
      "/home/fehiepsi/projects/kaggle-telstra/src/telstra_data.py:277: FutureWarning: pd.ewm_mean is deprecated for Series and will be removed in a future version, replace with \n",
      "\tSeries.ewm(halflife=2,min_periods=1,adjust=True,ignore_na=False).mean()\n",
      "  return lambda x: [0]+pd.ewma(x==fs,halflife = halflife,min_periods=1)[:-1].tolist()\n",
      "/home/fehiepsi/projects/kaggle-telstra/src/telstra_data.py:277: FutureWarning: pd.ewm_mean is deprecated for Series and will be removed in a future version, replace with \n",
      "\tSeries.ewm(halflife=2,min_periods=1,adjust=True,ignore_na=False).mean()\n",
      "  return lambda x: [0]+pd.ewma(x==fs,halflife = halflife,min_periods=1)[:-1].tolist()\n",
      "/home/fehiepsi/projects/kaggle-telstra/src/telstra_data.py:277: FutureWarning: pd.ewm_mean is deprecated for Series and will be removed in a future version, replace with \n",
      "\tSeries.ewm(halflife=2,min_periods=1,adjust=True,ignore_na=False).mean()\n",
      "  return lambda x: [0]+pd.ewma(x==fs,halflife = halflife,min_periods=1)[:-1].tolist()\n",
      "INFO - random_forest - Result: 0.4903157920337031\n",
      "INFO - random_forest - Completed after 0:01:15\n",
      "INFO - hyperopt.tpe - tpe_transform took 0.001737 seconds\n",
      "INFO - hyperopt.tpe - TPE using 3/3 trials with best loss 0.454743\n",
      "WARNING - root - Changed type of config entry \"clfparams.max_features\" from str to int\n",
      "INFO - random_forest - Running command 'rf'\n",
      "INFO - random_forest - Started\n",
      "WARNING - random_forest - Aborted after 0:00:00!\n"
     ]
    },
    {
     "ename": "KeyboardInterrupt",
     "evalue": "",
     "output_type": "error",
     "traceback": [
      "\u001b[0;31m---------------------------------------------------------------------------\u001b[0m",
      "\u001b[0;31mKeyboardInterrupt\u001b[0m                         Traceback (most recent call last)",
      "\u001b[0;32m<ipython-input-12-a645fa8b6597>\u001b[0m in \u001b[0;36m<module>\u001b[0;34m()\u001b[0m\n\u001b[1;32m      2\u001b[0m     \u001b[0mspace\u001b[0m\u001b[0;34m=\u001b[0m\u001b[0mspace\u001b[0m\u001b[0;34m,\u001b[0m\u001b[0;34m\u001b[0m\u001b[0m\n\u001b[1;32m      3\u001b[0m     \u001b[0malgo\u001b[0m\u001b[0;34m=\u001b[0m\u001b[0mtpe\u001b[0m\u001b[0;34m.\u001b[0m\u001b[0msuggest\u001b[0m\u001b[0;34m,\u001b[0m\u001b[0;34m\u001b[0m\u001b[0m\n\u001b[0;32m----> 4\u001b[0;31m     max_evals=20)\n\u001b[0m\u001b[1;32m      5\u001b[0m \u001b[0mprint\u001b[0m\u001b[0;34m(\u001b[0m\u001b[0mbest\u001b[0m\u001b[0;34m)\u001b[0m\u001b[0;34m\u001b[0m\u001b[0m\n",
      "\u001b[0;32m/home/fehiepsi/miniconda3/envs/pydata/lib/python3.5/site-packages/hyperopt/fmin.py\u001b[0m in \u001b[0;36mfmin\u001b[0;34m(fn, space, algo, max_evals, trials, rstate, allow_trials_fmin, pass_expr_memo_ctrl, catch_eval_exceptions, verbose, return_argmin)\u001b[0m\n\u001b[1;32m    318\u001b[0m                     verbose=verbose)\n\u001b[1;32m    319\u001b[0m     \u001b[0mrval\u001b[0m\u001b[0;34m.\u001b[0m\u001b[0mcatch_eval_exceptions\u001b[0m \u001b[0;34m=\u001b[0m \u001b[0mcatch_eval_exceptions\u001b[0m\u001b[0;34m\u001b[0m\u001b[0m\n\u001b[0;32m--> 320\u001b[0;31m     \u001b[0mrval\u001b[0m\u001b[0;34m.\u001b[0m\u001b[0mexhaust\u001b[0m\u001b[0;34m(\u001b[0m\u001b[0;34m)\u001b[0m\u001b[0;34m\u001b[0m\u001b[0m\n\u001b[0m\u001b[1;32m    321\u001b[0m     \u001b[0;32mif\u001b[0m \u001b[0mreturn_argmin\u001b[0m\u001b[0;34m:\u001b[0m\u001b[0;34m\u001b[0m\u001b[0m\n\u001b[1;32m    322\u001b[0m         \u001b[0;32mreturn\u001b[0m \u001b[0mtrials\u001b[0m\u001b[0;34m.\u001b[0m\u001b[0margmin\u001b[0m\u001b[0;34m\u001b[0m\u001b[0m\n",
      "\u001b[0;32m/home/fehiepsi/miniconda3/envs/pydata/lib/python3.5/site-packages/hyperopt/fmin.py\u001b[0m in \u001b[0;36mexhaust\u001b[0;34m(self)\u001b[0m\n\u001b[1;32m    197\u001b[0m     \u001b[0;32mdef\u001b[0m \u001b[0mexhaust\u001b[0m\u001b[0;34m(\u001b[0m\u001b[0mself\u001b[0m\u001b[0;34m)\u001b[0m\u001b[0;34m:\u001b[0m\u001b[0;34m\u001b[0m\u001b[0m\n\u001b[1;32m    198\u001b[0m         \u001b[0mn_done\u001b[0m \u001b[0;34m=\u001b[0m \u001b[0mlen\u001b[0m\u001b[0;34m(\u001b[0m\u001b[0mself\u001b[0m\u001b[0;34m.\u001b[0m\u001b[0mtrials\u001b[0m\u001b[0;34m)\u001b[0m\u001b[0;34m\u001b[0m\u001b[0m\n\u001b[0;32m--> 199\u001b[0;31m         \u001b[0mself\u001b[0m\u001b[0;34m.\u001b[0m\u001b[0mrun\u001b[0m\u001b[0;34m(\u001b[0m\u001b[0mself\u001b[0m\u001b[0;34m.\u001b[0m\u001b[0mmax_evals\u001b[0m \u001b[0;34m-\u001b[0m \u001b[0mn_done\u001b[0m\u001b[0;34m,\u001b[0m \u001b[0mblock_until_done\u001b[0m\u001b[0;34m=\u001b[0m\u001b[0mself\u001b[0m\u001b[0;34m.\u001b[0m\u001b[0masync\u001b[0m\u001b[0;34m)\u001b[0m\u001b[0;34m\u001b[0m\u001b[0m\n\u001b[0m\u001b[1;32m    200\u001b[0m         \u001b[0mself\u001b[0m\u001b[0;34m.\u001b[0m\u001b[0mtrials\u001b[0m\u001b[0;34m.\u001b[0m\u001b[0mrefresh\u001b[0m\u001b[0;34m(\u001b[0m\u001b[0;34m)\u001b[0m\u001b[0;34m\u001b[0m\u001b[0m\n\u001b[1;32m    201\u001b[0m         \u001b[0;32mreturn\u001b[0m \u001b[0mself\u001b[0m\u001b[0;34m\u001b[0m\u001b[0m\n",
      "\u001b[0;32m/home/fehiepsi/miniconda3/envs/pydata/lib/python3.5/site-packages/hyperopt/fmin.py\u001b[0m in \u001b[0;36mrun\u001b[0;34m(self, N, block_until_done)\u001b[0m\n\u001b[1;32m    171\u001b[0m             \u001b[0;32melse\u001b[0m\u001b[0;34m:\u001b[0m\u001b[0;34m\u001b[0m\u001b[0m\n\u001b[1;32m    172\u001b[0m                 \u001b[0;31m# -- loop over trials and do the jobs directly\u001b[0m\u001b[0;34m\u001b[0m\u001b[0;34m\u001b[0m\u001b[0m\n\u001b[0;32m--> 173\u001b[0;31m                 \u001b[0mself\u001b[0m\u001b[0;34m.\u001b[0m\u001b[0mserial_evaluate\u001b[0m\u001b[0;34m(\u001b[0m\u001b[0;34m)\u001b[0m\u001b[0;34m\u001b[0m\u001b[0m\n\u001b[0m\u001b[1;32m    174\u001b[0m \u001b[0;34m\u001b[0m\u001b[0m\n\u001b[1;32m    175\u001b[0m             \u001b[0;32mif\u001b[0m \u001b[0mstopped\u001b[0m\u001b[0;34m:\u001b[0m\u001b[0;34m\u001b[0m\u001b[0m\n",
      "\u001b[0;32m/home/fehiepsi/miniconda3/envs/pydata/lib/python3.5/site-packages/hyperopt/fmin.py\u001b[0m in \u001b[0;36mserial_evaluate\u001b[0;34m(self, N)\u001b[0m\n\u001b[1;32m     90\u001b[0m                 \u001b[0mctrl\u001b[0m \u001b[0;34m=\u001b[0m \u001b[0mbase\u001b[0m\u001b[0;34m.\u001b[0m\u001b[0mCtrl\u001b[0m\u001b[0;34m(\u001b[0m\u001b[0mself\u001b[0m\u001b[0;34m.\u001b[0m\u001b[0mtrials\u001b[0m\u001b[0;34m,\u001b[0m \u001b[0mcurrent_trial\u001b[0m\u001b[0;34m=\u001b[0m\u001b[0mtrial\u001b[0m\u001b[0;34m)\u001b[0m\u001b[0;34m\u001b[0m\u001b[0m\n\u001b[1;32m     91\u001b[0m                 \u001b[0;32mtry\u001b[0m\u001b[0;34m:\u001b[0m\u001b[0;34m\u001b[0m\u001b[0m\n\u001b[0;32m---> 92\u001b[0;31m                     \u001b[0mresult\u001b[0m \u001b[0;34m=\u001b[0m \u001b[0mself\u001b[0m\u001b[0;34m.\u001b[0m\u001b[0mdomain\u001b[0m\u001b[0;34m.\u001b[0m\u001b[0mevaluate\u001b[0m\u001b[0;34m(\u001b[0m\u001b[0mspec\u001b[0m\u001b[0;34m,\u001b[0m \u001b[0mctrl\u001b[0m\u001b[0;34m)\u001b[0m\u001b[0;34m\u001b[0m\u001b[0m\n\u001b[0m\u001b[1;32m     93\u001b[0m                 \u001b[0;32mexcept\u001b[0m \u001b[0mException\u001b[0m \u001b[0;32mas\u001b[0m \u001b[0me\u001b[0m\u001b[0;34m:\u001b[0m\u001b[0;34m\u001b[0m\u001b[0m\n\u001b[1;32m     94\u001b[0m                     \u001b[0mlogger\u001b[0m\u001b[0;34m.\u001b[0m\u001b[0minfo\u001b[0m\u001b[0;34m(\u001b[0m\u001b[0;34m'job exception: %s'\u001b[0m \u001b[0;34m%\u001b[0m \u001b[0mstr\u001b[0m\u001b[0;34m(\u001b[0m\u001b[0me\u001b[0m\u001b[0;34m)\u001b[0m\u001b[0;34m)\u001b[0m\u001b[0;34m\u001b[0m\u001b[0m\n",
      "\u001b[0;32m/home/fehiepsi/miniconda3/envs/pydata/lib/python3.5/site-packages/hyperopt/base.py\u001b[0m in \u001b[0;36mevaluate\u001b[0;34m(self, config, ctrl, attach_attachments)\u001b[0m\n\u001b[1;32m    838\u001b[0m                 \u001b[0mmemo\u001b[0m\u001b[0;34m=\u001b[0m\u001b[0mmemo\u001b[0m\u001b[0;34m,\u001b[0m\u001b[0;34m\u001b[0m\u001b[0m\n\u001b[1;32m    839\u001b[0m                 print_node_on_error=self.rec_eval_print_node_on_error)\n\u001b[0;32m--> 840\u001b[0;31m             \u001b[0mrval\u001b[0m \u001b[0;34m=\u001b[0m \u001b[0mself\u001b[0m\u001b[0;34m.\u001b[0m\u001b[0mfn\u001b[0m\u001b[0;34m(\u001b[0m\u001b[0mpyll_rval\u001b[0m\u001b[0;34m)\u001b[0m\u001b[0;34m\u001b[0m\u001b[0m\n\u001b[0m\u001b[1;32m    841\u001b[0m \u001b[0;34m\u001b[0m\u001b[0m\n\u001b[1;32m    842\u001b[0m         \u001b[0;32mif\u001b[0m \u001b[0misinstance\u001b[0m\u001b[0;34m(\u001b[0m\u001b[0mrval\u001b[0m\u001b[0;34m,\u001b[0m \u001b[0;34m(\u001b[0m\u001b[0mfloat\u001b[0m\u001b[0;34m,\u001b[0m \u001b[0mint\u001b[0m\u001b[0;34m,\u001b[0m \u001b[0mnp\u001b[0m\u001b[0;34m.\u001b[0m\u001b[0mnumber\u001b[0m\u001b[0;34m)\u001b[0m\u001b[0;34m)\u001b[0m\u001b[0;34m:\u001b[0m\u001b[0;34m\u001b[0m\u001b[0m\n",
      "\u001b[0;32m<ipython-input-11-c7b6b671e3a9>\u001b[0m in \u001b[0;36mrf_objective\u001b[0;34m(params)\u001b[0m\n\u001b[1;32m      3\u001b[0m     \u001b[0;32mfor\u001b[0m \u001b[0;34m(\u001b[0m\u001b[0mkey\u001b[0m\u001b[0;34m,\u001b[0m\u001b[0mvalue\u001b[0m\u001b[0;34m)\u001b[0m \u001b[0;32min\u001b[0m \u001b[0mparams\u001b[0m\u001b[0;34m.\u001b[0m\u001b[0mitems\u001b[0m\u001b[0;34m(\u001b[0m\u001b[0;34m)\u001b[0m\u001b[0;34m:\u001b[0m\u001b[0;34m\u001b[0m\u001b[0m\n\u001b[1;32m      4\u001b[0m         \u001b[0mconfig\u001b[0m\u001b[0;34m[\u001b[0m\u001b[0;34m\"clfparams.{}\"\u001b[0m\u001b[0;34m.\u001b[0m\u001b[0mformat\u001b[0m\u001b[0;34m(\u001b[0m\u001b[0mkey\u001b[0m\u001b[0;34m)\u001b[0m\u001b[0;34m]\u001b[0m \u001b[0;34m=\u001b[0m \u001b[0mint\u001b[0m\u001b[0;34m(\u001b[0m\u001b[0mvalue\u001b[0m\u001b[0;34m)\u001b[0m\u001b[0;34m\u001b[0m\u001b[0m\n\u001b[0;32m----> 5\u001b[0;31m     \u001b[0mrun\u001b[0m \u001b[0;34m=\u001b[0m \u001b[0mrfex\u001b[0m\u001b[0;34m.\u001b[0m\u001b[0mrun\u001b[0m\u001b[0;34m(\u001b[0m\u001b[0mconfig_updates\u001b[0m\u001b[0;34m=\u001b[0m\u001b[0mconfig\u001b[0m\u001b[0;34m)\u001b[0m\u001b[0;34m\u001b[0m\u001b[0m\n\u001b[0m\u001b[1;32m      6\u001b[0m     \u001b[0;32mreturn\u001b[0m \u001b[0mrun\u001b[0m\u001b[0;34m.\u001b[0m\u001b[0mresult\u001b[0m\u001b[0;34m\u001b[0m\u001b[0m\n",
      "\u001b[0;32m/home/fehiepsi/miniconda3/envs/pydata/lib/python3.5/site-packages/sacred/experiment.py\u001b[0m in \u001b[0;36mrun\u001b[0;34m(self, config_updates, named_configs)\u001b[0m\n\u001b[1;32m    132\u001b[0m         return self.run_command(self.default_command,\n\u001b[1;32m    133\u001b[0m                                 \u001b[0mconfig_updates\u001b[0m\u001b[0;34m=\u001b[0m\u001b[0mconfig_updates\u001b[0m\u001b[0;34m,\u001b[0m\u001b[0;34m\u001b[0m\u001b[0m\n\u001b[0;32m--> 134\u001b[0;31m                                 named_configs=named_configs)\n\u001b[0m\u001b[1;32m    135\u001b[0m \u001b[0;34m\u001b[0m\u001b[0m\n\u001b[1;32m    136\u001b[0m     def run_command(self, command_name, config_updates=None,\n",
      "\u001b[0;32m/home/fehiepsi/miniconda3/envs/pydata/lib/python3.5/site-packages/sacred/experiment.py\u001b[0m in \u001b[0;36mrun_command\u001b[0;34m(self, command_name, config_updates, named_configs, args)\u001b[0m\n\u001b[1;32m    169\u001b[0m                 \u001b[0moption\u001b[0m\u001b[0;34m.\u001b[0m\u001b[0mapply\u001b[0m\u001b[0;34m(\u001b[0m\u001b[0margs\u001b[0m\u001b[0;34m[\u001b[0m\u001b[0mop_name\u001b[0m\u001b[0;34m]\u001b[0m\u001b[0;34m,\u001b[0m \u001b[0mrun\u001b[0m\u001b[0;34m)\u001b[0m\u001b[0;34m\u001b[0m\u001b[0m\n\u001b[1;32m    170\u001b[0m         \u001b[0mself\u001b[0m\u001b[0;34m.\u001b[0m\u001b[0mcurrent_run\u001b[0m\u001b[0;34m.\u001b[0m\u001b[0mrun_logger\u001b[0m\u001b[0;34m.\u001b[0m\u001b[0minfo\u001b[0m\u001b[0;34m(\u001b[0m\u001b[0;34m\"Running command '%s'\"\u001b[0m\u001b[0;34m,\u001b[0m \u001b[0mcommand_name\u001b[0m\u001b[0;34m)\u001b[0m\u001b[0;34m\u001b[0m\u001b[0m\n\u001b[0;32m--> 171\u001b[0;31m         \u001b[0mrun\u001b[0m\u001b[0;34m(\u001b[0m\u001b[0;34m)\u001b[0m\u001b[0;34m\u001b[0m\u001b[0m\n\u001b[0m\u001b[1;32m    172\u001b[0m         \u001b[0mself\u001b[0m\u001b[0;34m.\u001b[0m\u001b[0mcurrent_run\u001b[0m \u001b[0;34m=\u001b[0m \u001b[0;32mNone\u001b[0m\u001b[0;34m\u001b[0m\u001b[0m\n\u001b[1;32m    173\u001b[0m         \u001b[0;32mreturn\u001b[0m \u001b[0mrun\u001b[0m\u001b[0;34m\u001b[0m\u001b[0m\n",
      "\u001b[0;32m/home/fehiepsi/miniconda3/envs/pydata/lib/python3.5/site-packages/sacred/run.py\u001b[0m in \u001b[0;36m__call__\u001b[0;34m(self, *args)\u001b[0m\n\u001b[1;32m    151\u001b[0m             \u001b[0;32mtry\u001b[0m\u001b[0;34m:\u001b[0m\u001b[0;34m\u001b[0m\u001b[0m\n\u001b[1;32m    152\u001b[0m                 \u001b[0mself\u001b[0m\u001b[0;34m.\u001b[0m\u001b[0m_execute_pre_run_hooks\u001b[0m\u001b[0;34m(\u001b[0m\u001b[0;34m)\u001b[0m\u001b[0;34m\u001b[0m\u001b[0m\n\u001b[0;32m--> 153\u001b[0;31m                 \u001b[0mself\u001b[0m\u001b[0;34m.\u001b[0m\u001b[0mresult\u001b[0m \u001b[0;34m=\u001b[0m \u001b[0mself\u001b[0m\u001b[0;34m.\u001b[0m\u001b[0mmain_function\u001b[0m\u001b[0;34m(\u001b[0m\u001b[0;34m*\u001b[0m\u001b[0margs\u001b[0m\u001b[0;34m)\u001b[0m\u001b[0;34m\u001b[0m\u001b[0m\n\u001b[0m\u001b[1;32m    154\u001b[0m                 \u001b[0mself\u001b[0m\u001b[0;34m.\u001b[0m\u001b[0m_execute_post_run_hooks\u001b[0m\u001b[0;34m(\u001b[0m\u001b[0;34m)\u001b[0m\u001b[0;34m\u001b[0m\u001b[0m\n\u001b[1;32m    155\u001b[0m                 \u001b[0mself\u001b[0m\u001b[0;34m.\u001b[0m\u001b[0m_stop_heartbeat\u001b[0m\u001b[0;34m(\u001b[0m\u001b[0;34m)\u001b[0m\u001b[0;34m\u001b[0m\u001b[0m\n",
      "\u001b[0;32m/home/fehiepsi/miniconda3/envs/pydata/lib/python3.5/site-packages/sacred/config/captured_function.py\u001b[0m in \u001b[0;36mcaptured_function\u001b[0;34m(wrapped, instance, args, kwargs)\u001b[0m\n\u001b[1;32m     45\u001b[0m     \u001b[0mstart_time\u001b[0m \u001b[0;34m=\u001b[0m \u001b[0mtime\u001b[0m\u001b[0;34m.\u001b[0m\u001b[0mtime\u001b[0m\u001b[0;34m(\u001b[0m\u001b[0;34m)\u001b[0m\u001b[0;34m\u001b[0m\u001b[0m\n\u001b[1;32m     46\u001b[0m     \u001b[0;31m# =================== run actual function =================================\u001b[0m\u001b[0;34m\u001b[0m\u001b[0;34m\u001b[0m\u001b[0m\n\u001b[0;32m---> 47\u001b[0;31m     \u001b[0mresult\u001b[0m \u001b[0;34m=\u001b[0m \u001b[0mwrapped\u001b[0m\u001b[0;34m(\u001b[0m\u001b[0;34m*\u001b[0m\u001b[0margs\u001b[0m\u001b[0;34m,\u001b[0m \u001b[0;34m**\u001b[0m\u001b[0mkwargs\u001b[0m\u001b[0;34m)\u001b[0m\u001b[0;34m\u001b[0m\u001b[0m\n\u001b[0m\u001b[1;32m     48\u001b[0m     \u001b[0;31m# =========================================================================\u001b[0m\u001b[0;34m\u001b[0m\u001b[0;34m\u001b[0m\u001b[0m\n\u001b[1;32m     49\u001b[0m     \u001b[0mstop_time\u001b[0m \u001b[0;34m=\u001b[0m \u001b[0mtime\u001b[0m\u001b[0;34m.\u001b[0m\u001b[0mtime\u001b[0m\u001b[0;34m(\u001b[0m\u001b[0;34m)\u001b[0m\u001b[0;34m\u001b[0m\u001b[0m\n",
      "\u001b[0;32m/home/fehiepsi/projects/kaggle-telstra/src/experiments/RFexp.py\u001b[0m in \u001b[0;36mrf\u001b[0;34m(series, n_folds, clfparams, featureparams, aggregateparams, include, exclude, save_test_predictions, save_oob_predictions, skip_cross_validation, _run)\u001b[0m\n\u001b[1;32m     46\u001b[0m def rf(series, n_folds, clfparams, featureparams, aggregateparams, include, exclude,\n\u001b[1;32m     47\u001b[0m         save_test_predictions, save_oob_predictions, skip_cross_validation, _run):\n\u001b[0;32m---> 48\u001b[0;31m     \u001b[0mdata\u001b[0m \u001b[0;34m=\u001b[0m \u001b[0mTelstraData\u001b[0m\u001b[0;34m(\u001b[0m\u001b[0minclude\u001b[0m \u001b[0;34m=\u001b[0m \u001b[0minclude\u001b[0m\u001b[0;34m,\u001b[0m \u001b[0mexclude\u001b[0m \u001b[0;34m=\u001b[0m \u001b[0mexclude\u001b[0m\u001b[0;34m,\u001b[0m \u001b[0;34m**\u001b[0m\u001b[0mfeatureparams\u001b[0m\u001b[0;34m)\u001b[0m\u001b[0;34m\u001b[0m\u001b[0m\n\u001b[0m\u001b[1;32m     49\u001b[0m     \u001b[0mtime\u001b[0m \u001b[0;34m=\u001b[0m \u001b[0mdatetime\u001b[0m\u001b[0;34m.\u001b[0m\u001b[0mdatetime\u001b[0m\u001b[0;34m.\u001b[0m\u001b[0mnow\u001b[0m\u001b[0;34m(\u001b[0m\u001b[0;34m)\u001b[0m\u001b[0;34m.\u001b[0m\u001b[0mstrftime\u001b[0m\u001b[0;34m(\u001b[0m\u001b[0;34m\"%Y-%m-%d_%H-%M-%S\"\u001b[0m\u001b[0;34m)\u001b[0m\u001b[0;34m\u001b[0m\u001b[0m\n\u001b[1;32m     50\u001b[0m     \u001b[0mpred_cols\u001b[0m \u001b[0;34m=\u001b[0m \u001b[0;34m[\u001b[0m\u001b[0;34m'predict_{}'\u001b[0m\u001b[0;34m.\u001b[0m\u001b[0mformat\u001b[0m\u001b[0;34m(\u001b[0m\u001b[0mi\u001b[0m\u001b[0;34m)\u001b[0m \u001b[0;32mfor\u001b[0m \u001b[0mi\u001b[0m \u001b[0;32min\u001b[0m \u001b[0mrange\u001b[0m\u001b[0;34m(\u001b[0m\u001b[0;36m3\u001b[0m\u001b[0;34m)\u001b[0m\u001b[0;34m]\u001b[0m\u001b[0;34m\u001b[0m\u001b[0m\n",
      "\u001b[0;32m/home/fehiepsi/projects/kaggle-telstra/src/telstra_data.py\u001b[0m in \u001b[0;36m__init__\u001b[0;34m(self, datadir, include, exclude, **featureparams)\u001b[0m\n\u001b[1;32m     21\u001b[0m \u001b[0;32mclass\u001b[0m \u001b[0mTelstraData\u001b[0m\u001b[0;34m(\u001b[0m\u001b[0mobject\u001b[0m\u001b[0;34m)\u001b[0m\u001b[0;34m:\u001b[0m\u001b[0;34m\u001b[0m\u001b[0m\n\u001b[1;32m     22\u001b[0m     \u001b[0;32mdef\u001b[0m \u001b[0m__init__\u001b[0m\u001b[0;34m(\u001b[0m\u001b[0mself\u001b[0m\u001b[0;34m,\u001b[0m \u001b[0mdatadir\u001b[0m \u001b[0;34m=\u001b[0m \u001b[0;34m'data'\u001b[0m\u001b[0;34m,\u001b[0m \u001b[0minclude\u001b[0m \u001b[0;34m=\u001b[0m \u001b[0;34m[\u001b[0m\u001b[0;34m]\u001b[0m\u001b[0;34m,\u001b[0m \u001b[0mexclude\u001b[0m \u001b[0;34m=\u001b[0m \u001b[0;34m[\u001b[0m\u001b[0;34m]\u001b[0m\u001b[0;34m,\u001b[0m \u001b[0;34m**\u001b[0m\u001b[0mfeatureparams\u001b[0m\u001b[0;34m)\u001b[0m\u001b[0;34m:\u001b[0m\u001b[0;34m\u001b[0m\u001b[0m\n\u001b[0;32m---> 23\u001b[0;31m         \u001b[0mself\u001b[0m\u001b[0;34m.\u001b[0m\u001b[0mdata\u001b[0m \u001b[0;34m=\u001b[0m \u001b[0mself\u001b[0m\u001b[0;34m.\u001b[0m\u001b[0mload_data\u001b[0m\u001b[0;34m(\u001b[0m\u001b[0mdatadir\u001b[0m\u001b[0;34m)\u001b[0m\u001b[0;34m\u001b[0m\u001b[0m\n\u001b[0m\u001b[1;32m     24\u001b[0m         \u001b[0mself\u001b[0m\u001b[0;34m.\u001b[0m\u001b[0mbuild_features\u001b[0m\u001b[0;34m(\u001b[0m\u001b[0;34m**\u001b[0m\u001b[0mfeatureparams\u001b[0m\u001b[0;34m)\u001b[0m\u001b[0;34m\u001b[0m\u001b[0m\n\u001b[1;32m     25\u001b[0m         \u001b[0mself\u001b[0m\u001b[0;34m.\u001b[0m\u001b[0minclude\u001b[0m \u001b[0;34m=\u001b[0m \u001b[0minclude\u001b[0m\u001b[0;34m\u001b[0m\u001b[0m\n",
      "\u001b[0;32m/home/fehiepsi/projects/kaggle-telstra/src/telstra_data.py\u001b[0m in \u001b[0;36mload_data\u001b[0;34m(self, datadir)\u001b[0m\n\u001b[1;32m     35\u001b[0m                     converters = {'event_type':loc_converter})\n\u001b[1;32m     36\u001b[0m         log = pd.read_csv(os.path.join(datadir,'log_feature.csv'),\n\u001b[0;32m---> 37\u001b[0;31m                     converters = {'log_feature':loc_converter})\n\u001b[0m\u001b[1;32m     38\u001b[0m         resource = pd.read_csv(os.path.join(datadir,'resource_type.csv'),\n\u001b[1;32m     39\u001b[0m                     converters = {'resource_type':loc_converter})\n",
      "\u001b[0;32m/home/fehiepsi/miniconda3/envs/pydata/lib/python3.5/site-packages/pandas/io/parsers.py\u001b[0m in \u001b[0;36mparser_f\u001b[0;34m(filepath_or_buffer, sep, delimiter, header, names, index_col, usecols, squeeze, prefix, mangle_dupe_cols, dtype, engine, converters, true_values, false_values, skipinitialspace, skiprows, nrows, na_values, keep_default_na, na_filter, verbose, skip_blank_lines, parse_dates, infer_datetime_format, keep_date_col, date_parser, dayfirst, iterator, chunksize, compression, thousands, decimal, lineterminator, quotechar, quoting, escapechar, comment, encoding, dialect, tupleize_cols, error_bad_lines, warn_bad_lines, skipfooter, skip_footer, doublequote, delim_whitespace, as_recarray, compact_ints, use_unsigned, low_memory, buffer_lines, memory_map, float_precision)\u001b[0m\n\u001b[1;32m    644\u001b[0m                     skip_blank_lines=skip_blank_lines)\n\u001b[1;32m    645\u001b[0m \u001b[0;34m\u001b[0m\u001b[0m\n\u001b[0;32m--> 646\u001b[0;31m         \u001b[0;32mreturn\u001b[0m \u001b[0m_read\u001b[0m\u001b[0;34m(\u001b[0m\u001b[0mfilepath_or_buffer\u001b[0m\u001b[0;34m,\u001b[0m \u001b[0mkwds\u001b[0m\u001b[0;34m)\u001b[0m\u001b[0;34m\u001b[0m\u001b[0m\n\u001b[0m\u001b[1;32m    647\u001b[0m \u001b[0;34m\u001b[0m\u001b[0m\n\u001b[1;32m    648\u001b[0m     \u001b[0mparser_f\u001b[0m\u001b[0;34m.\u001b[0m\u001b[0m__name__\u001b[0m \u001b[0;34m=\u001b[0m \u001b[0mname\u001b[0m\u001b[0;34m\u001b[0m\u001b[0m\n",
      "\u001b[0;32m/home/fehiepsi/miniconda3/envs/pydata/lib/python3.5/site-packages/pandas/io/parsers.py\u001b[0m in \u001b[0;36m_read\u001b[0;34m(filepath_or_buffer, kwds)\u001b[0m\n\u001b[1;32m    399\u001b[0m         \u001b[0;32mreturn\u001b[0m \u001b[0mparser\u001b[0m\u001b[0;34m\u001b[0m\u001b[0m\n\u001b[1;32m    400\u001b[0m \u001b[0;34m\u001b[0m\u001b[0m\n\u001b[0;32m--> 401\u001b[0;31m     \u001b[0mdata\u001b[0m \u001b[0;34m=\u001b[0m \u001b[0mparser\u001b[0m\u001b[0;34m.\u001b[0m\u001b[0mread\u001b[0m\u001b[0;34m(\u001b[0m\u001b[0;34m)\u001b[0m\u001b[0;34m\u001b[0m\u001b[0m\n\u001b[0m\u001b[1;32m    402\u001b[0m     \u001b[0mparser\u001b[0m\u001b[0;34m.\u001b[0m\u001b[0mclose\u001b[0m\u001b[0;34m(\u001b[0m\u001b[0;34m)\u001b[0m\u001b[0;34m\u001b[0m\u001b[0m\n\u001b[1;32m    403\u001b[0m     \u001b[0;32mreturn\u001b[0m \u001b[0mdata\u001b[0m\u001b[0;34m\u001b[0m\u001b[0m\n",
      "\u001b[0;32m/home/fehiepsi/miniconda3/envs/pydata/lib/python3.5/site-packages/pandas/io/parsers.py\u001b[0m in \u001b[0;36mread\u001b[0;34m(self, nrows)\u001b[0m\n\u001b[1;32m    937\u001b[0m                 \u001b[0;32mraise\u001b[0m \u001b[0mValueError\u001b[0m\u001b[0;34m(\u001b[0m\u001b[0;34m'skipfooter not supported for iteration'\u001b[0m\u001b[0;34m)\u001b[0m\u001b[0;34m\u001b[0m\u001b[0m\n\u001b[1;32m    938\u001b[0m \u001b[0;34m\u001b[0m\u001b[0m\n\u001b[0;32m--> 939\u001b[0;31m         \u001b[0mret\u001b[0m \u001b[0;34m=\u001b[0m \u001b[0mself\u001b[0m\u001b[0;34m.\u001b[0m\u001b[0m_engine\u001b[0m\u001b[0;34m.\u001b[0m\u001b[0mread\u001b[0m\u001b[0;34m(\u001b[0m\u001b[0mnrows\u001b[0m\u001b[0;34m)\u001b[0m\u001b[0;34m\u001b[0m\u001b[0m\n\u001b[0m\u001b[1;32m    940\u001b[0m \u001b[0;34m\u001b[0m\u001b[0m\n\u001b[1;32m    941\u001b[0m         \u001b[0;32mif\u001b[0m \u001b[0mself\u001b[0m\u001b[0;34m.\u001b[0m\u001b[0moptions\u001b[0m\u001b[0;34m.\u001b[0m\u001b[0mget\u001b[0m\u001b[0;34m(\u001b[0m\u001b[0;34m'as_recarray'\u001b[0m\u001b[0;34m)\u001b[0m\u001b[0;34m:\u001b[0m\u001b[0;34m\u001b[0m\u001b[0m\n",
      "\u001b[0;32m/home/fehiepsi/miniconda3/envs/pydata/lib/python3.5/site-packages/pandas/io/parsers.py\u001b[0m in \u001b[0;36mread\u001b[0;34m(self, nrows)\u001b[0m\n\u001b[1;32m   1506\u001b[0m     \u001b[0;32mdef\u001b[0m \u001b[0mread\u001b[0m\u001b[0;34m(\u001b[0m\u001b[0mself\u001b[0m\u001b[0;34m,\u001b[0m \u001b[0mnrows\u001b[0m\u001b[0;34m=\u001b[0m\u001b[0;32mNone\u001b[0m\u001b[0;34m)\u001b[0m\u001b[0;34m:\u001b[0m\u001b[0;34m\u001b[0m\u001b[0m\n\u001b[1;32m   1507\u001b[0m         \u001b[0;32mtry\u001b[0m\u001b[0;34m:\u001b[0m\u001b[0;34m\u001b[0m\u001b[0m\n\u001b[0;32m-> 1508\u001b[0;31m             \u001b[0mdata\u001b[0m \u001b[0;34m=\u001b[0m \u001b[0mself\u001b[0m\u001b[0;34m.\u001b[0m\u001b[0m_reader\u001b[0m\u001b[0;34m.\u001b[0m\u001b[0mread\u001b[0m\u001b[0;34m(\u001b[0m\u001b[0mnrows\u001b[0m\u001b[0;34m)\u001b[0m\u001b[0;34m\u001b[0m\u001b[0m\n\u001b[0m\u001b[1;32m   1509\u001b[0m         \u001b[0;32mexcept\u001b[0m \u001b[0mStopIteration\u001b[0m\u001b[0;34m:\u001b[0m\u001b[0;34m\u001b[0m\u001b[0m\n\u001b[1;32m   1510\u001b[0m             \u001b[0;32mif\u001b[0m \u001b[0mself\u001b[0m\u001b[0;34m.\u001b[0m\u001b[0m_first_chunk\u001b[0m\u001b[0;34m:\u001b[0m\u001b[0;34m\u001b[0m\u001b[0m\n",
      "\u001b[0;32mpandas/parser.pyx\u001b[0m in \u001b[0;36mpandas.parser.TextReader.read (pandas/parser.c:10415)\u001b[0;34m()\u001b[0m\n",
      "\u001b[0;32mpandas/parser.pyx\u001b[0m in \u001b[0;36mpandas.parser.TextReader._read_low_memory (pandas/parser.c:10691)\u001b[0;34m()\u001b[0m\n",
      "\u001b[0;32mpandas/parser.pyx\u001b[0m in \u001b[0;36mpandas.parser.TextReader._read_rows (pandas/parser.c:11728)\u001b[0;34m()\u001b[0m\n",
      "\u001b[0;32mpandas/parser.pyx\u001b[0m in \u001b[0;36mpandas.parser.TextReader._convert_column_data (pandas/parser.c:13129)\u001b[0;34m()\u001b[0m\n",
      "\u001b[0;32mpandas/parser.pyx\u001b[0m in \u001b[0;36mpandas.parser._apply_converter (pandas/parser.c:28909)\u001b[0;34m()\u001b[0m\n",
      "\u001b[0;32m/home/fehiepsi/projects/kaggle-telstra/src/telstra_data.py\u001b[0m in \u001b[0;36mloc_converter\u001b[0;34m(location_string)\u001b[0m\n\u001b[1;32m     27\u001b[0m     \u001b[0;32mdef\u001b[0m \u001b[0mload_data\u001b[0m\u001b[0;34m(\u001b[0m\u001b[0mself\u001b[0m\u001b[0;34m,\u001b[0m \u001b[0mdatadir\u001b[0m\u001b[0;34m)\u001b[0m\u001b[0;34m:\u001b[0m\u001b[0;34m\u001b[0m\u001b[0m\n\u001b[1;32m     28\u001b[0m         \u001b[0;32mdef\u001b[0m \u001b[0mloc_converter\u001b[0m\u001b[0;34m(\u001b[0m\u001b[0mlocation_string\u001b[0m\u001b[0;34m)\u001b[0m\u001b[0;34m:\u001b[0m\u001b[0;34m\u001b[0m\u001b[0m\n\u001b[0;32m---> 29\u001b[0;31m             \u001b[0;32mreturn\u001b[0m \u001b[0mint\u001b[0m\u001b[0;34m(\u001b[0m\u001b[0mlocation_string\u001b[0m\u001b[0;34m.\u001b[0m\u001b[0msplit\u001b[0m\u001b[0;34m(\u001b[0m\u001b[0;34m\" \"\u001b[0m\u001b[0;34m)\u001b[0m\u001b[0;34m[\u001b[0m\u001b[0;36m1\u001b[0m\u001b[0;34m]\u001b[0m\u001b[0;34m)\u001b[0m\u001b[0;34m\u001b[0m\u001b[0m\n\u001b[0m\u001b[1;32m     30\u001b[0m         train = pd.read_csv(os.path.join(datadir, 'train.csv'), index_col='id',\n\u001b[1;32m     31\u001b[0m                     converters = {'location':loc_converter})\n",
      "\u001b[0;31mKeyboardInterrupt\u001b[0m: "
     ]
    }
   ],
   "source": [
    "best = fmin(fn=rf_objective,\n",
    "    space=space,\n",
    "    algo=tpe.suggest,\n",
    "    max_evals=20)\n",
    "print(best)"
   ]
  },
  {
   "cell_type": "markdown",
   "metadata": {},
   "source": [
    "## Review optimisation results\n",
    "\n",
    "Notice how we didn't have to bother about saving any results or configurations. Sacred takes care of that for us. Let's look at the database entries for this optimisation run."
   ]
  },
  {
   "cell_type": "code",
   "execution_count": null,
   "metadata": {
    "collapsed": false
   },
   "outputs": [],
   "source": [
    "client = MongoClient()\n",
    "db = client.telstra\n",
    "runs = db.default.runs"
   ]
  },
  {
   "cell_type": "markdown",
   "metadata": {},
   "source": [
    "How many runs were successfully completed?"
   ]
  },
  {
   "cell_type": "code",
   "execution_count": null,
   "metadata": {
    "collapsed": false,
    "scrolled": true
   },
   "outputs": [],
   "source": [
    "runs.find({\"config.series\":\"RF01\",\"status\":\"COMPLETED\"}).count()"
   ]
  },
  {
   "cell_type": "markdown",
   "metadata": {},
   "source": [
    "Now let's collect configurations and results and put them in a dataframe."
   ]
  },
  {
   "cell_type": "code",
   "execution_count": null,
   "metadata": {
    "collapsed": false
   },
   "outputs": [],
   "source": [
    "def find():\n",
    "    return runs.find({\"config.series\":\"RF01\",\"status\":\"COMPLETED\"},sort = [('result',1)])\n",
    "df = pd.DataFrame(0, index = np.arange(find().count()), columns = [])\n",
    "for name in space.keys():\n",
    "    df[name] = [r['config']['clfparams'][name] for r in find()]\n",
    "df['result'] = [r['result'] for r in find()]\n",
    "df = df.sort_values(by='result')\n",
    "df.head()"
   ]
  },
  {
   "cell_type": "markdown",
   "metadata": {},
   "source": [
    "It looks like the best value for `min_samples_leaf` is 3, and best `max_features` is 19. But other settings also come close to the best result. \n",
    "\n",
    "We can visualize results as a seaborn pairplot."
   ]
  },
  {
   "cell_type": "code",
   "execution_count": null,
   "metadata": {
    "collapsed": false
   },
   "outputs": [],
   "source": [
    "sns.pairplot(df,size=3.5)"
   ]
  },
  {
   "cell_type": "markdown",
   "metadata": {},
   "source": [
    "It looks like more `max_features` is better. Maybe we could run another series of experiments this time allowing for `max_features` > 20. Or we can look at the results and select models for ensembling by finding those with similarly good results but sufficiently different settings. The decisions are up to you as a data scientist =)."
   ]
  },
  {
   "cell_type": "markdown",
   "metadata": {},
   "source": [
    "## Tune an xgboost model\n",
    "\n",
    "Here's an example of code I used for tuning xgboost for this competition."
   ]
  },
  {
   "cell_type": "code",
   "execution_count": null,
   "metadata": {
    "collapsed": true
   },
   "outputs": [],
   "source": [
    "space = {'eta':hp.lognormal('eta',np.log(0.05),-np.log(0.1)),\n",
    "         'max_depth':hp.quniform('max_depth',2,30,1),\n",
    "         'subsample':hp.uniform('subsample',0.05,1.0),\n",
    "         'colsample_bytree':hp.uniform('colsample_bytree',0.05,1.0),\n",
    "         'lambda':hp.lognormal('lambda',np.log(10.),np.log(100)),\n",
    "         'max_delta_step':hp.choice('max_delta_step', [0,1]),\n",
    "         'alpha':hp.lognormal('alpha',np.log(1.),np.log(100.))}"
   ]
  },
  {
   "cell_type": "code",
   "execution_count": null,
   "metadata": {
    "collapsed": true
   },
   "outputs": [],
   "source": [
    "def xgboost_objective(params):\n",
    "    config={'series':\"XGB37\"}\n",
    "    for (key,value) in params.items():\n",
    "        config[\"clfparams.{}\".format(key)] = value\n",
    "    run = xgbex.run(config_updates=config)\n",
    "    return run.result"
   ]
  },
  {
   "cell_type": "code",
   "execution_count": null,
   "metadata": {
    "collapsed": true
   },
   "outputs": [],
   "source": [
    "best = fmin(fn=xgboost_objective,\n",
    "    space=space,\n",
    "    algo=tpe.suggest,\n",
    "    max_evals=200)"
   ]
  },
  {
   "cell_type": "markdown",
   "metadata": {},
   "source": [
    "## Some notes on the tuning\n",
    "\n",
    "* I sometimes did tuning in two stages: first a faster screening-type search over a larger set of configurations but using only a single train-validation split instead of full cross-validation. Then rerun full experiments with the best models found in stage one.\n",
    "* It is possible to tune not only the model, but also the full pipeline including missing data handling, feature engineering and so on. We may have to make decisions like \"how many features of this type to include\", \"fill NAs for this variable with -1, mean or median\" etc. If we encode them as experiment configurations we can have hyperopt choose the best options as well."
   ]
  }
 ],
 "metadata": {
  "kernelspec": {
   "display_name": "Python [default]",
   "language": "python",
   "name": "python3"
  },
  "language_info": {
   "codemirror_mode": {
    "name": "ipython",
    "version": 3
   },
   "file_extension": ".py",
   "mimetype": "text/x-python",
   "name": "python",
   "nbconvert_exporter": "python",
   "pygments_lexer": "ipython3",
   "version": "3.5.2"
  }
 },
 "nbformat": 4,
 "nbformat_minor": 0
}
